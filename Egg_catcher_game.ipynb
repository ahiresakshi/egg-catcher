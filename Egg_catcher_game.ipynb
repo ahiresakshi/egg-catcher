{
  "nbformat": 4,
  "nbformat_minor": 0,
  "metadata": {
    "colab": {
      "name": "Egg_catcher game.ipynb",
      "provenance": [],
      "collapsed_sections": [],
      "authorship_tag": "ABX9TyOYH5qg410bwwqGa5YlypLD",
      "include_colab_link": true
    },
    "kernelspec": {
      "name": "python3",
      "display_name": "Python 3"
    },
    "language_info": {
      "name": "python"
    }
  },
  "cells": [
    {
      "cell_type": "markdown",
      "metadata": {
        "id": "view-in-github",
        "colab_type": "text"
      },
      "source": [
        "<a href=\"https://colab.research.google.com/github/ahiresakshi/egg-catcher/blob/main/Egg_catcher_game.ipynb\" target=\"_parent\"><img src=\"https://colab.research.google.com/assets/colab-badge.svg\" alt=\"Open In Colab\"/></a>"
      ]
    },
    {
      "cell_type": "code",
      "execution_count": 7,
      "metadata": {
        "colab": {
          "base_uri": "https://localhost:8080/",
          "height": 356
        },
        "id": "5ETDF9ZnwUNW",
        "outputId": "31893272-af34-4803-dd36-7b139330597e"
      },
      "outputs": [
        {
          "output_type": "error",
          "ename": "TclError",
          "evalue": "ignored",
          "traceback": [
            "\u001b[0;31m---------------------------------------------------------------------------\u001b[0m",
            "\u001b[0;31mTclError\u001b[0m                                  Traceback (most recent call last)",
            "\u001b[0;32m<ipython-input-7-4fa4d98c2aa9>\u001b[0m in \u001b[0;36m<module>\u001b[0;34m()\u001b[0m\n\u001b[1;32m      7\u001b[0m \u001b[0mcanvas_height\u001b[0m \u001b[0;34m=\u001b[0m \u001b[0;36m400\u001b[0m\u001b[0;34m\u001b[0m\u001b[0;34m\u001b[0m\u001b[0m\n\u001b[1;32m      8\u001b[0m \u001b[0;31m# intialisng tkinter module using root variable as Tk()\u001b[0m\u001b[0;34m\u001b[0m\u001b[0;34m\u001b[0m\u001b[0;34m\u001b[0m\u001b[0m\n\u001b[0;32m----> 9\u001b[0;31m \u001b[0mroot\u001b[0m \u001b[0;34m=\u001b[0m \u001b[0mTk\u001b[0m\u001b[0;34m(\u001b[0m\u001b[0;34m)\u001b[0m\u001b[0;34m\u001b[0m\u001b[0;34m\u001b[0m\u001b[0m\n\u001b[0m\u001b[1;32m     10\u001b[0m \u001b[0mc\u001b[0m \u001b[0;34m=\u001b[0m \u001b[0mCanvas\u001b[0m\u001b[0;34m(\u001b[0m\u001b[0mroot\u001b[0m\u001b[0;34m,\u001b[0m \u001b[0mwidth\u001b[0m\u001b[0;34m=\u001b[0m\u001b[0mcanvas_width\u001b[0m\u001b[0;34m,\u001b[0m \u001b[0mheight\u001b[0m\u001b[0;34m=\u001b[0m\u001b[0mcanvas_height\u001b[0m\u001b[0;34m,\u001b[0m \u001b[0mbackground\u001b[0m\u001b[0;34m=\u001b[0m\u001b[0;34m\"deep sky blue\"\u001b[0m\u001b[0;34m)\u001b[0m\u001b[0;34m\u001b[0m\u001b[0;34m\u001b[0m\u001b[0m\n\u001b[1;32m     11\u001b[0m \u001b[0mc\u001b[0m\u001b[0;34m.\u001b[0m\u001b[0mcreate_rectangle\u001b[0m\u001b[0;34m(\u001b[0m\u001b[0;34m-\u001b[0m\u001b[0;36m5\u001b[0m\u001b[0;34m,\u001b[0m \u001b[0mcanvas_height\u001b[0m\u001b[0;34m-\u001b[0m\u001b[0;36m100\u001b[0m\u001b[0;34m,\u001b[0m \u001b[0mcanvas_width\u001b[0m\u001b[0;34m+\u001b[0m\u001b[0;36m5\u001b[0m\u001b[0;34m,\u001b[0m \u001b[0mcanvas_height\u001b[0m\u001b[0;34m+\u001b[0m\u001b[0;36m5\u001b[0m\u001b[0;34m,\u001b[0m \u001b[0mfill\u001b[0m\u001b[0;34m=\u001b[0m\u001b[0;34m\"sea green\"\u001b[0m\u001b[0;34m,\u001b[0m \u001b[0mwidth\u001b[0m\u001b[0;34m=\u001b[0m\u001b[0;36m0\u001b[0m\u001b[0;34m)\u001b[0m\u001b[0;34m\u001b[0m\u001b[0;34m\u001b[0m\u001b[0m\n",
            "\u001b[0;32m/usr/lib/python3.7/tkinter/__init__.py\u001b[0m in \u001b[0;36m__init__\u001b[0;34m(self, screenName, baseName, className, useTk, sync, use)\u001b[0m\n\u001b[1;32m   2021\u001b[0m                 \u001b[0mbaseName\u001b[0m \u001b[0;34m=\u001b[0m \u001b[0mbaseName\u001b[0m \u001b[0;34m+\u001b[0m \u001b[0mext\u001b[0m\u001b[0;34m\u001b[0m\u001b[0;34m\u001b[0m\u001b[0m\n\u001b[1;32m   2022\u001b[0m         \u001b[0minteractive\u001b[0m \u001b[0;34m=\u001b[0m \u001b[0;36m0\u001b[0m\u001b[0;34m\u001b[0m\u001b[0;34m\u001b[0m\u001b[0m\n\u001b[0;32m-> 2023\u001b[0;31m         \u001b[0mself\u001b[0m\u001b[0;34m.\u001b[0m\u001b[0mtk\u001b[0m \u001b[0;34m=\u001b[0m \u001b[0m_tkinter\u001b[0m\u001b[0;34m.\u001b[0m\u001b[0mcreate\u001b[0m\u001b[0;34m(\u001b[0m\u001b[0mscreenName\u001b[0m\u001b[0;34m,\u001b[0m \u001b[0mbaseName\u001b[0m\u001b[0;34m,\u001b[0m \u001b[0mclassName\u001b[0m\u001b[0;34m,\u001b[0m \u001b[0minteractive\u001b[0m\u001b[0;34m,\u001b[0m \u001b[0mwantobjects\u001b[0m\u001b[0;34m,\u001b[0m \u001b[0museTk\u001b[0m\u001b[0;34m,\u001b[0m \u001b[0msync\u001b[0m\u001b[0;34m,\u001b[0m \u001b[0muse\u001b[0m\u001b[0;34m)\u001b[0m\u001b[0;34m\u001b[0m\u001b[0;34m\u001b[0m\u001b[0m\n\u001b[0m\u001b[1;32m   2024\u001b[0m         \u001b[0;32mif\u001b[0m \u001b[0museTk\u001b[0m\u001b[0;34m:\u001b[0m\u001b[0;34m\u001b[0m\u001b[0;34m\u001b[0m\u001b[0m\n\u001b[1;32m   2025\u001b[0m             \u001b[0mself\u001b[0m\u001b[0;34m.\u001b[0m\u001b[0m_loadtk\u001b[0m\u001b[0;34m(\u001b[0m\u001b[0;34m)\u001b[0m\u001b[0;34m\u001b[0m\u001b[0;34m\u001b[0m\u001b[0m\n",
            "\u001b[0;31mTclError\u001b[0m: no display name and no $DISPLAY environment variable"
          ]
        }
      ],
      "source": [
        "# importing modules and library ss aahe itertools is for change color & random to move position & tkinter for creating msgbox\n",
        "from itertools import cycle\n",
        "from random import randrange\n",
        "from tkinter import Canvas, Tk, messagebox, font\n",
        "\n",
        "canvas_width = 800\n",
        "canvas_height = 400\n",
        "# intialisng tkinter module using root variable as Tk()\n",
        "root = Tk() \n",
        "c = Canvas(root, width=canvas_width, height=canvas_height, background=\"deep sky blue\")\n",
        "c.create_rectangle(-5, canvas_height-100, canvas_width+5, canvas_height+5, fill=\"sea green\", width=0)\n",
        "c.create_oval(-80, -80, 120, 120, fill='orange' , width=0)\n",
        "c.pack()\n",
        "color_cycle = cycle([\"light blue\", \"light green\", \"light pink\", \"light yellow\", \"light cyan\"])\n",
        "egg_width = 45\n",
        "egg_height = 55\n",
        "egg_score = 10\n",
        "egg_speed = 500\n",
        "egg_interval = 4000\n",
        "difficulty = 0.95\n",
        "catcher_color = \"blue\"\n",
        "catcher_width = 100\n",
        "catcher_height = 100\n",
        "catcher_startx = canvas_width / 2 - catcher_width / 2\n",
        "catcher_starty = canvas_height - catcher_height - 20\n",
        "catcher_startx2 = catcher_startx + catcher_width \n",
        "catcher_starty2 = catcher_starty + catcher_height\n",
        "\n",
        "catcher = c.create_arc(catcher_startx, catcher_starty, catcher_startx2, catcher_starty2, start=200, extent=140, style=\"arc\")\n",
        "game_font = font.nametofont(\"TkFixedFont\")\n",
        "game_font.config(size=18)\n",
        "\n",
        "score=0\n",
        "score_text = c.create_text(10,10, anchor=\"nw\", font=game_font, fill=\"darkblue\", text=\"Score: \"+ str(score))\n",
        "\n",
        "lives_remaining = 3\n",
        "lives_text = c.create_text(canvas_width-10, 10, anchor=\"ne\", font=game_font, fill=\"darkblue\", text=\"Lives: \"+ str(lives_remaining))\n",
        "\n",
        "eggs =[]\n",
        "def create_egg():\n",
        "  x = randrange(10,740)\n",
        "  y = 40\n",
        "  new_egg = c.create_oval(x,y, x+egg_width, y+egg_height, fill=next(color_cycle), width=0)\n",
        "  eggs.append(new_egg)\n",
        "  root.after(egg_interval, create_egg)\n",
        "def move_eggs():\n",
        "  for egg in eggs:\n",
        "    (eggx, eggy, eggx2, eggy2) = c.coords(egg)\n",
        "    c.move(egg, 0, 10)\n",
        "    if eggy2>canvas_height:\n",
        "      egg_dropped(egg)\n",
        "  root.after(egg_speed, move_eggs)\n",
        "def egg_dropped(egg):\n",
        "  eggs.remove(egg)\n",
        "  c.delete(egg)\n",
        "  lose_a_life()\n",
        "  if lives_remaining == 0:\n",
        "    messagebox.showinfo(\"Game Over!\", \"Final Score: \"+str(score))\n",
        "    root.destroy()\n",
        "def lose_a_life():\n",
        "  global lives_remaining\n",
        "  lives_remaining -= 1\n",
        "  c.itemconfigure(lives_text, text=\"Lives: \"+ str(lives_remaining))\n",
        "def check_catch():\n",
        "  (catcherx, catchery, catcherx2, catchery2) = c.coords(catcher)\n",
        "  for egg in eggs:\n",
        "    (eggx, eggy, eggx2, eggy2) = c.coords(egg)\n",
        "    if catcherx < eggx and eggx2 < catcherx2 and catchery2 - eggy2 <40:\n",
        "      eggs.remove(egg)\n",
        "      c.delete(egg)\n",
        "      increase_score(egg_score)\n",
        "  root.after(100, check_catch)\n",
        "def increase_score(points):\n",
        "  global score, egg_speed, egg_interval\n",
        "  score += points\n",
        "  egg_speed = int(egg_speed * difficulty) \n",
        "  c.itemconfigure(score_text, text=\"Score: \"+ str(score))\n",
        "def move_left(event):\n",
        "  (x1,y1,x2,y2) = c.coords(catcher)\n",
        "  if x1>0:\n",
        "    c.move(catcher, -20, 0)\n",
        "def move_right(event):\n",
        "  (x1,y1,x2,y2) = c.coords(catcher)\n",
        "  if x2<canvas_width:\n",
        "    c.move(catcher, 20, 0)   \n",
        "c.bind(\"<Left>\", move_left)\n",
        "c.bind(\"<Right>\", move_right)\n",
        "c.focus_set()\n",
        "root.after(1000, create_egg)\n",
        "root.after(1000, move_eggs)\n",
        "root.after(1000, check_catch)\n",
        "root.mainloop()\n",
        "\n"
      ]
    }
  ]
}